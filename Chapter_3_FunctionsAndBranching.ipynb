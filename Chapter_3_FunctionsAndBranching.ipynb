{
 "cells": [
  {
   "cell_type": "code",
   "execution_count": 11,
   "outputs": [
    {
     "name": "stdout",
     "output_type": "stream",
     "text": [
      "t=0          position=0          velocity=5         \n",
      "t=0.05       position=0.237737   velocity=4.5095    \n",
      "t=0.1        position=0.45095    velocity=4.019     \n",
      "t=0.15       position=0.639638   velocity=3.5285    \n",
      "t=0.2        position=0.8038     velocity=3.038     \n",
      "t=0.25       position=0.943437   velocity=2.5475    \n",
      "t=0.3        position=1.05855    velocity=2.057     \n",
      "t=0.35       position=1.14914    velocity=1.5665    \n",
      "t=0.4        position=1.2152     velocity=1.076     \n",
      "t=0.45       position=1.25674    velocity=0.5855    \n"
     ]
    }
   ],
   "source": [
    "# Task 1: Multiple return values in a function\n",
    "def position_velocity(t, v0):\n",
    "    g = 9.81\n",
    "    y = v0*t - 0.5*g*t**2\n",
    "    dydt = v0 - g*t\n",
    "    return y, dydt\n",
    "\n",
    "t_values = [0.05*i for i in range(10)]\n",
    "\n",
    "for t in t_values:\n",
    "    position, velocity = position_velocity(t, v0=5)\n",
    "    print('t=%-10g position=%-10g velocity=%-10g' % (t, position, velocity))\n"
   ],
   "metadata": {
    "collapsed": false,
    "pycharm": {
     "name": "#%%\n"
    }
   }
  },
  {
   "cell_type": "code",
   "execution_count": 12,
   "outputs": [
    {
     "name": "stdout",
     "output_type": "stream",
     "text": [
      "0.04879016416943199\n",
      "2.8283285542039572e-136\n",
      "5.551115123125783e-17\n"
     ]
    }
   ],
   "source": [
    "# Task 2: Computing sums (approximation to ln(1+x)\n",
    "from math import log\n",
    "\n",
    "def ln_approx(x, n):\n",
    "    s = 0\n",
    "    for i in range(1, n+1):\n",
    "        s += (1.0/i)*(x/(1.0+x))**i\n",
    "    accumulated_value = s\n",
    "    first_neglected_term = (1.0/(n+1))*(x/(1.0+x))**(n+1)\n",
    "    exact_error = log(1+x) - accumulated_value\n",
    "    return accumulated_value, first_neglected_term, exact_error\n",
    "\n",
    "value, approximate_error, exact_error = ln_approx(0.05, 100)\n",
    "\n",
    "print(value)\n",
    "print(approximate_error)\n",
    "print(exact_error)"
   ],
   "metadata": {
    "collapsed": false,
    "pycharm": {
     "name": "#%%\n"
    }
   }
  },
  {
   "cell_type": "code",
   "execution_count": 13,
   "outputs": [
    {
     "name": "stdout",
     "output_type": "stream",
     "text": [
      "\n",
      "x=10, ln(1+x)=2.3979\n",
      "n=1    0          (next term: 4.13e-01   error: 1.49e+00)\n",
      "n=2    1          (next term: 2.50e-01   error: 1.08e+00)\n",
      "n=10   2          (next term: 3.19e-02   error: 2.19e-01)\n",
      "n=100  2          (next term: 6.53e-07   error: 6.59e-06)\n",
      "\n",
      "x=1000, ln(1+x)=6.90875\n",
      "n=1    0          (next term: 4.99e-01   error: 5.91e+00)\n",
      "n=2    1          (next term: 3.32e-01   error: 5.41e+00)\n",
      "n=10   2          (next term: 8.99e-02   error: 3.99e+00)\n",
      "n=100  5          (next term: 8.95e-03   error: 1.82e+00)\n"
     ]
    }
   ],
   "source": [
    "# Task 3: Create Accuracy Table for ln approximation\n",
    "def table(x):\n",
    "    print('\\nx=%g, ln(1+x)=%g' % (x, log(1+x)))\n",
    "    for n in [1, 2, 10, 100]:\n",
    "        value, next, error = ln_approx(x, n)\n",
    "        print('n=%-4d %-10d (next term: %8.2e   error: %8.2e)' % (n, value, next, error))\n",
    "\n",
    "table(10)\n",
    "table(1000)"
   ],
   "metadata": {
    "collapsed": false,
    "pycharm": {
     "name": "#%%\n"
    }
   }
  },
  {
   "cell_type": "code",
   "execution_count": 26,
   "outputs": [
    {
     "name": "stdout",
     "output_type": "stream",
     "text": [
      "Integral of 1.5*sin^3 from 0 to pi:\n",
      "n=  2, approx= 3.141592653589793, error=-1.14E+00\n",
      "n=  6, approx= 1.989171700583579, error= 1.08E-02\n",
      "n= 12, approx= 1.999489233010781, error= 5.11E-04\n",
      "n=100, approx= 1.999999902476350, error= 9.75E-08\n",
      "n=500, approx= 1.999999999844138, error= 1.56E-10\n"
     ]
    }
   ],
   "source": [
    "# Task 4: Numerical Integration using Simpsons rule\n",
    "from math import sin, pi\n",
    "\n",
    "def simpson(f, a, b, n=500):\n",
    "    h = (b-a)/float(n)\n",
    "    sum1 = 0\n",
    "    for i in range(1, int(n/2) + 1):\n",
    "        sum1 += f(a + (2*i-1)*h)\n",
    "\n",
    "    sum2 = 0\n",
    "    for i in range(1, int(n/2)):\n",
    "        sum2 += f(a + 2*i*h)\n",
    "\n",
    "    integral = (b-a)/(3*n)*(f(a) + f(b) + 4*sum1 + 2*sum2)\n",
    "\n",
    "    return integral\n",
    "\n",
    "def term(x):\n",
    "    return (3./2)*sin(x)**3\n",
    "\n",
    "def application():\n",
    "    print('Integral of 1.5*sin^3 from 0 to pi:')\n",
    "    for n in 2, 6, 12, 100, 500:\n",
    "        approx = simpson(term, 0, pi, n)\n",
    "        print('n=%3d, approx=%18.15f, error=%9.2E' % (n, approx, 2-approx))\n",
    "\n",
    "application()"
   ],
   "metadata": {
    "collapsed": false,
    "pycharm": {
     "name": "#%%\n"
    }
   }
  },
  {
   "cell_type": "code",
   "execution_count": null,
   "outputs": [],
   "source": [],
   "metadata": {
    "collapsed": false,
    "pycharm": {
     "name": "#%%\n"
    }
   }
  }
 ],
 "metadata": {
  "kernelspec": {
   "display_name": "Python 3",
   "language": "python",
   "name": "python3"
  },
  "language_info": {
   "codemirror_mode": {
    "name": "ipython",
    "version": 2
   },
   "file_extension": ".py",
   "mimetype": "text/x-python",
   "name": "python",
   "nbconvert_exporter": "python",
   "pygments_lexer": "ipython2",
   "version": "2.7.6"
  }
 },
 "nbformat": 4,
 "nbformat_minor": 0
}